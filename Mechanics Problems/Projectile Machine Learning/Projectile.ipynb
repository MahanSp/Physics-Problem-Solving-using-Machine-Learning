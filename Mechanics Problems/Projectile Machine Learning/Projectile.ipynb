{
 "cells": [
  {
   "cell_type": "markdown",
   "id": "ec4316f6",
   "metadata": {},
   "source": [
    "<div class=\"alert alert-block alert-success\">\n",
    "    <h1 align=\"center\">Training a Model to Predict the Motion of a Projectile</h1>\n",
    "    <h3 align=\"center\">Mahan Sattarpour</h3>\n",
    "</div>"
   ]
  },
  {
   "cell_type": "markdown",
   "id": "5432ecb6",
   "metadata": {},
   "source": [
    "### Import libraries"
   ]
  },
  {
   "cell_type": "code",
   "execution_count": 1,
   "id": "cd5fe563",
   "metadata": {},
   "outputs": [],
   "source": [
    "%matplotlib inline\n",
    "import numpy as np\n",
    "import pandas as pd\n",
    "import matplotlib.pyplot as plt\n",
    "import sklearn\n",
    "from sklearn.preprocessing import PolynomialFeatures\n",
    "from sklearn.preprocessing import StandardScaler\n",
    "from sklearn.linear_model import LinearRegression\n",
    "from sklearn.model_selection import train_test_split \n",
    "from sklearn import metrics "
   ]
  },
  {
   "cell_type": "code",
   "execution_count": 2,
   "id": "7bf0a608",
   "metadata": {
    "scrolled": true
   },
   "outputs": [
    {
     "data": {
      "text/html": [
       "<div>\n",
       "<style scoped>\n",
       "    .dataframe tbody tr th:only-of-type {\n",
       "        vertical-align: middle;\n",
       "    }\n",
       "\n",
       "    .dataframe tbody tr th {\n",
       "        vertical-align: top;\n",
       "    }\n",
       "\n",
       "    .dataframe thead th {\n",
       "        text-align: right;\n",
       "    }\n",
       "</style>\n",
       "<table border=\"1\" class=\"dataframe\">\n",
       "  <thead>\n",
       "    <tr style=\"text-align: right;\">\n",
       "      <th></th>\n",
       "      <th>Time</th>\n",
       "      <th>Initial Velocity</th>\n",
       "      <th>Sine of Theta</th>\n",
       "      <th>Cosine of Theta</th>\n",
       "      <th>X Position</th>\n",
       "      <th>Y Position</th>\n",
       "    </tr>\n",
       "  </thead>\n",
       "  <tbody>\n",
       "    <tr>\n",
       "      <th>1</th>\n",
       "      <td>0.01</td>\n",
       "      <td>19.786574</td>\n",
       "      <td>0.994001</td>\n",
       "      <td>-0.109371</td>\n",
       "      <td>-0.021641</td>\n",
       "      <td>0.196189</td>\n",
       "    </tr>\n",
       "    <tr>\n",
       "      <th>2</th>\n",
       "      <td>0.02</td>\n",
       "      <td>19.786574</td>\n",
       "      <td>0.994001</td>\n",
       "      <td>-0.109371</td>\n",
       "      <td>-0.043282</td>\n",
       "      <td>0.391397</td>\n",
       "    </tr>\n",
       "    <tr>\n",
       "      <th>3</th>\n",
       "      <td>0.03</td>\n",
       "      <td>19.786574</td>\n",
       "      <td>0.994001</td>\n",
       "      <td>-0.109371</td>\n",
       "      <td>-0.064922</td>\n",
       "      <td>0.585626</td>\n",
       "    </tr>\n",
       "    <tr>\n",
       "      <th>4</th>\n",
       "      <td>0.04</td>\n",
       "      <td>19.786574</td>\n",
       "      <td>0.994001</td>\n",
       "      <td>-0.109371</td>\n",
       "      <td>-0.086563</td>\n",
       "      <td>0.778875</td>\n",
       "    </tr>\n",
       "    <tr>\n",
       "      <th>5</th>\n",
       "      <td>0.05</td>\n",
       "      <td>19.786574</td>\n",
       "      <td>0.994001</td>\n",
       "      <td>-0.109371</td>\n",
       "      <td>-0.108204</td>\n",
       "      <td>0.971144</td>\n",
       "    </tr>\n",
       "    <tr>\n",
       "      <th>...</th>\n",
       "      <td>...</td>\n",
       "      <td>...</td>\n",
       "      <td>...</td>\n",
       "      <td>...</td>\n",
       "      <td>...</td>\n",
       "      <td>...</td>\n",
       "    </tr>\n",
       "    <tr>\n",
       "      <th>34847</th>\n",
       "      <td>4.91</td>\n",
       "      <td>39.965679</td>\n",
       "      <td>0.607885</td>\n",
       "      <td>0.794025</td>\n",
       "      <td>155.812729</td>\n",
       "      <td>1.156469</td>\n",
       "    </tr>\n",
       "    <tr>\n",
       "      <th>34848</th>\n",
       "      <td>4.92</td>\n",
       "      <td>39.965679</td>\n",
       "      <td>0.607885</td>\n",
       "      <td>0.794025</td>\n",
       "      <td>156.130067</td>\n",
       "      <td>0.917744</td>\n",
       "    </tr>\n",
       "    <tr>\n",
       "      <th>34849</th>\n",
       "      <td>4.93</td>\n",
       "      <td>39.965679</td>\n",
       "      <td>0.607885</td>\n",
       "      <td>0.794025</td>\n",
       "      <td>156.447404</td>\n",
       "      <td>0.678040</td>\n",
       "    </tr>\n",
       "    <tr>\n",
       "      <th>34850</th>\n",
       "      <td>4.94</td>\n",
       "      <td>39.965679</td>\n",
       "      <td>0.607885</td>\n",
       "      <td>0.794025</td>\n",
       "      <td>156.764742</td>\n",
       "      <td>0.437355</td>\n",
       "    </tr>\n",
       "    <tr>\n",
       "      <th>34851</th>\n",
       "      <td>4.95</td>\n",
       "      <td>39.965679</td>\n",
       "      <td>0.607885</td>\n",
       "      <td>0.794025</td>\n",
       "      <td>157.082079</td>\n",
       "      <td>0.195690</td>\n",
       "    </tr>\n",
       "  </tbody>\n",
       "</table>\n",
       "<p>34851 rows × 6 columns</p>\n",
       "</div>"
      ],
      "text/plain": [
       "       Time  Initial Velocity  Sine of Theta  Cosine of Theta  X Position  \\\n",
       "1      0.01         19.786574       0.994001        -0.109371   -0.021641   \n",
       "2      0.02         19.786574       0.994001        -0.109371   -0.043282   \n",
       "3      0.03         19.786574       0.994001        -0.109371   -0.064922   \n",
       "4      0.04         19.786574       0.994001        -0.109371   -0.086563   \n",
       "5      0.05         19.786574       0.994001        -0.109371   -0.108204   \n",
       "...     ...               ...            ...              ...         ...   \n",
       "34847  4.91         39.965679       0.607885         0.794025  155.812729   \n",
       "34848  4.92         39.965679       0.607885         0.794025  156.130067   \n",
       "34849  4.93         39.965679       0.607885         0.794025  156.447404   \n",
       "34850  4.94         39.965679       0.607885         0.794025  156.764742   \n",
       "34851  4.95         39.965679       0.607885         0.794025  157.082079   \n",
       "\n",
       "       Y Position  \n",
       "1        0.196189  \n",
       "2        0.391397  \n",
       "3        0.585626  \n",
       "4        0.778875  \n",
       "5        0.971144  \n",
       "...           ...  \n",
       "34847    1.156469  \n",
       "34848    0.917744  \n",
       "34849    0.678040  \n",
       "34850    0.437355  \n",
       "34851    0.195690  \n",
       "\n",
       "[34851 rows x 6 columns]"
      ]
     },
     "execution_count": 2,
     "metadata": {},
     "output_type": "execute_result"
    }
   ],
   "source": [
    "projectile = pd.read_csv('Projectile.csv')\n",
    "projectile.drop([0],inplace=True)\n",
    "projectile"
   ]
  },
  {
   "cell_type": "code",
   "execution_count": 3,
   "id": "36caea8b",
   "metadata": {},
   "outputs": [],
   "source": [
    "X = projectile.drop(['X Position','Y Position'],axis=1)\n",
    "y = projectile[['X Position','Y Position']]\n",
    "sc = StandardScaler()\n",
    "X_scale = sc.fit_transform(X)"
   ]
  },
  {
   "cell_type": "code",
   "execution_count": 4,
   "id": "d007bea5",
   "metadata": {},
   "outputs": [],
   "source": [
    "projectile_test = pd.read_csv('Projectile_test.csv')\n",
    "X_a = projectile_test.drop(['X Position','Y Position'],axis=1)\n",
    "y_a = projectile_test[['X Position','Y Position']]\n",
    "X_ascale = sc.transform(X_a)"
   ]
  },
  {
   "cell_type": "code",
   "execution_count": 5,
   "id": "fcd7c919",
   "metadata": {},
   "outputs": [],
   "source": [
    "from sklearn.model_selection import train_test_split\n",
    "X_train, X_test, y_train, y_test = train_test_split(X_scale, y, test_size = 0.2, random_state = 1)"
   ]
  },
  {
   "cell_type": "markdown",
   "id": "651fb74e",
   "metadata": {},
   "source": [
    "### Linear Regression"
   ]
  },
  {
   "cell_type": "code",
   "execution_count": 6,
   "id": "e6109d7e",
   "metadata": {},
   "outputs": [
    {
     "name": "stdout",
     "output_type": "stream",
     "text": [
      "Best R^2 : 0.5196163620947487\n",
      "R^2: 0.5202362862722889\n"
     ]
    }
   ],
   "source": [
    "slr = LinearRegression()\n",
    "accuracies = cross_val_score(estimator = slr, X = X_train, y = y_train, cv = 10)\n",
    "print('Best R^2 :',accuracies.mean())\n",
    "slr.fit(X_train, y_train)\n",
    "y_train_pred = slr.predict(X_train)\n",
    "print('R^2:',metrics.r2_score(y_train, y_train_pred))"
   ]
  },
  {
   "cell_type": "markdown",
   "id": "94d7a8d7",
   "metadata": {},
   "source": [
    "### Polynomial Regression"
   ]
  },
  {
   "cell_type": "code",
   "execution_count": 7,
   "id": "d0f50156",
   "metadata": {},
   "outputs": [
    {
     "name": "stdout",
     "output_type": "stream",
     "text": [
      "Best R^2: 1.0\n",
      "R^2: 1.0\n",
      "R^2: 1.0\n"
     ]
    }
   ],
   "source": [
    "poly_features = PolynomialFeatures(degree=3)\n",
    "   \n",
    "\n",
    "X_train_quadratic = poly_features.fit_transform(X_train)\n",
    "   \n",
    "\n",
    "quadratic = LinearRegression()\n",
    "\n",
    "quadratic.fit(X_train_quadratic, y_train)\n",
    "accuracies = cross_val_score(estimator = quadratic, X = X_train_quadratic, y = y_train, cv = 10)\n",
    "print('Best R^2:',accuracies.mean())\n",
    "y_train_predicted_quad = quadratic.predict(X_train_quadratic)\n",
    "y_test_predicted = quadratic.predict(poly_features.fit_transform(X_test))\n",
    "print('R^2:',metrics.r2_score(y_train, y_train_predicted_quad))\n",
    "print('R^2:',metrics.r2_score(y_test, y_test_predicted))"
   ]
  },
  {
   "cell_type": "code",
   "execution_count": 8,
   "id": "598f1339",
   "metadata": {},
   "outputs": [
    {
     "name": "stdout",
     "output_type": "stream",
     "text": [
      "R^2: 1.0\n"
     ]
    }
   ],
   "source": [
    "y_preda = quadratic.predict(poly_features.fit_transform(X_ascale))\n",
    "print('R^2:',metrics.r2_score(y_preda, y_a))"
   ]
  },
  {
   "cell_type": "code",
   "execution_count": 9,
   "id": "2e2ea383",
   "metadata": {
    "scrolled": true
   },
   "outputs": [
    {
     "data": {
      "text/plain": [
       "[<matplotlib.lines.Line2D at 0x12b800189d0>]"
      ]
     },
     "execution_count": 9,
     "metadata": {},
     "output_type": "execute_result"
    },
    {
     "data": {
      "image/png": "[encoded data removed]",
      "text/plain": [
       "<Figure size 432x288 with 1 Axes>"
      ]
     },
     "metadata": {
      "needs_background": "light"
     },
     "output_type": "display_data"
    }
   ],
   "source": [
    "plt.plot(np.array(y_a['X Position']),np.array(y_a['Y Position']),color='blue')\n",
    "plt.plot(y_preda[:,0],y_preda[:,1],color='red')"
   ]
  },
  {
   "cell_type": "markdown",
   "id": "813dc2a4",
   "metadata": {},
   "source": [
    "### Defining a function for this problem"
   ]
  },
  {
   "cell_type": "code",
   "execution_count": 10,
   "id": "43329c76",
   "metadata": {},
   "outputs": [],
   "source": [
    "def my_function(Projectile):\n",
    "    projectile = pd.read_csv(Projectile + '.csv')\n",
    "    projectile.drop([0],inplace=True)\n",
    "    X = projectile.drop(['X Position','Y Position'],axis=1)\n",
    "    y = projectile[['X Position','Y Position']]\n",
    "    sc = StandardScaler()\n",
    "    X_scale = sc.fit_transform(X)\n",
    "    projectile_test = pd.read_csv('Projectile_test.csv')\n",
    "    X_a = projectile_test.drop(['X Position','Y Position'],axis=1)\n",
    "    y_a = projectile_test[['X Position','Y Position']]\n",
    "    X_ascale = sc.transform(X_a)\n",
    "    X_train, X_test, y_train, y_test = train_test_split(X_scale, y, test_size = 0.2, random_state = 1)\n",
    "    poly_features = PolynomialFeatures(degree=3)\n",
    "    X_train_quadratic = poly_features.fit_transform(X_train) \n",
    "    quadratic = LinearRegression()\n",
    "    quadratic.fit(X_train_quadratic, y_train)\n",
    "    accuracies = cross_val_score(estimator = quadratic, X = X_train_quadratic, y = y_train, cv = 10)\n",
    "    print('Best R^2:',accuracies.mean())\n",
    "    y_train_predicted_quad = quadratic.predict(X_train_quadratic)\n",
    "    y_test_predicted = quadratic.predict(poly_features.fit_transform(X_test))\n",
    "    print('R^2:',metrics.r2_score(y_train, y_train_predicted_quad))\n",
    "    print('R^2:',metrics.r2_score(y_test, y_test_predicted))\n",
    "    y_preda = quadratic.predict(poly_features.fit_transform(X_ascale))\n",
    "    print('R^2:',metrics.r2_score(y_preda, y_a))\n",
    "    plt.plot(np.array(y_a['X Position']),np.array(y_a['Y Position']),color='blue')\n",
    "    plt.plot(y_preda[:,0],y_preda[:,1],color='red')"
   ]
  },
  {
   "cell_type": "code",
   "execution_count": 11,
   "id": "03ff1ff2",
   "metadata": {},
   "outputs": [
    {
     "name": "stdout",
     "output_type": "stream",
     "text": [
      "Best R^2: 1.0\n",
      "R^2: 1.0\n",
      "R^2: 1.0\n",
      "R^2: 1.0\n"
     ]
    },
    {
     "data": {
      "image/png": "[encoded data removed]",
      "text/plain": [
       "<Figure size 432x288 with 1 Axes>"
      ]
     },
     "metadata": {
      "needs_background": "light"
     },
     "output_type": "display_data"
    }
   ],
   "source": [
    "my_function('Projectile2')"
   ]
  },
  {
   "cell_type": "code",
   "execution_count": 12,
   "id": "c04a499e",
   "metadata": {},
   "outputs": [
    {
     "name": "stdout",
     "output_type": "stream",
     "text": [
      "Best R^2: 1.0\n",
      "R^2: 1.0\n",
      "R^2: 1.0\n",
      "R^2: -1586.940264261274\n"
     ]
    },
    {
     "data": {
      "image/png": "[encoded data removed]",
      "text/plain": [
       "<Figure size 432x288 with 1 Axes>"
      ]
     },
     "metadata": {
      "needs_background": "light"
     },
     "output_type": "display_data"
    }
   ],
   "source": [
    "my_function('Projectile3')"
   ]
  }
 ],
 "metadata": {
  "kernelspec": {
   "display_name": "Python 3 (ipykernel)",
   "language": "python",
   "name": "python3"
  },
  "language_info": {
   "codemirror_mode": {
    "name": "ipython",
    "version": 3
   },
   "file_extension": ".py",
   "mimetype": "text/x-python",
   "name": "python",
   "nbconvert_exporter": "python",
   "pygments_lexer": "ipython3",
   "version": "3.10.9"
  }
 },
 "nbformat": 4,
 "nbformat_minor": 5
}

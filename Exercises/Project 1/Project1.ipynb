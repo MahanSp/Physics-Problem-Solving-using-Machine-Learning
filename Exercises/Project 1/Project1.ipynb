{
 "cells": [
  {
   "cell_type": "markdown",
   "metadata": {},
   "source": [
    "<div class=\"alert alert-block alert-success\">\n",
    "    <h1 align=\"center\">Machine Learning in Python</h1>\n",
    "    <h3 align=\"center\">Project1</h3>\n",
    "</div>"
   ]
  },
  {
   "cell_type": "markdown",
   "metadata": {},
   "source": [
    "<img src = \"https://www.eesc.europa.eu/sites/default/files/styles/large/public/images/shutterstock_1642888921.jpg?itok=P9-6YhGd\" width=50%>"
   ]
  },
  {
   "cell_type": "markdown",
   "metadata": {},
   "source": [
    "## Importing the libraries"
   ]
  },
  {
   "cell_type": "code",
   "execution_count": 34,
   "metadata": {},
   "outputs": [],
   "source": [
    "%matplotlib inline\n",
    "import numpy as np\n",
    "import pandas as pd\n",
    "import matplotlib.pyplot as plt\n",
    "import seaborn as sns\n",
    "import sklearn\n",
    "\n",
    "import xgboost as xgb\n",
    "\n",
    "from sklearn.model_selection import train_test_split\n",
    "from sklearn.model_selection import cross_val_score, KFold\n",
    "from sklearn.metrics import mean_squared_error\n",
    "from sklearn.metrics import mean_absolute_error\n",
    "from sklearn.metrics import r2_score\n",
    "from sklearn.model_selection import cross_val_score\n",
    "import warnings\n",
    "warnings.filterwarnings('ignore')"
   ]
  },
  {
   "cell_type": "markdown",
   "metadata": {},
   "source": [
    "## Load and Prepare Data"
   ]
  },
  {
   "cell_type": "code",
   "execution_count": 2,
   "metadata": {},
   "outputs": [
    {
     "data": {
      "text/html": [
       "<div>\n",
       "<style scoped>\n",
       "    .dataframe tbody tr th:only-of-type {\n",
       "        vertical-align: middle;\n",
       "    }\n",
       "\n",
       "    .dataframe tbody tr th {\n",
       "        vertical-align: top;\n",
       "    }\n",
       "\n",
       "    .dataframe thead th {\n",
       "        text-align: right;\n",
       "    }\n",
       "</style>\n",
       "<table border=\"1\" class=\"dataframe\">\n",
       "  <thead>\n",
       "    <tr style=\"text-align: right;\">\n",
       "      <th></th>\n",
       "      <th>country</th>\n",
       "      <th>iso_code</th>\n",
       "      <th>date</th>\n",
       "      <th>total_vaccinations</th>\n",
       "      <th>people_vaccinated</th>\n",
       "      <th>people_fully_vaccinated</th>\n",
       "      <th>daily_vaccinations_raw</th>\n",
       "      <th>daily_vaccinations</th>\n",
       "      <th>total_vaccinations_per_hundred</th>\n",
       "      <th>people_vaccinated_per_hundred</th>\n",
       "      <th>people_fully_vaccinated_per_hundred</th>\n",
       "      <th>daily_vaccinations_per_million</th>\n",
       "      <th>vaccines</th>\n",
       "      <th>source_name</th>\n",
       "      <th>source_website</th>\n",
       "    </tr>\n",
       "  </thead>\n",
       "  <tbody>\n",
       "    <tr>\n",
       "      <th>0</th>\n",
       "      <td>Afghanistan</td>\n",
       "      <td>AFG</td>\n",
       "      <td>2021-02-22</td>\n",
       "      <td>0.0</td>\n",
       "      <td>0.0</td>\n",
       "      <td>NaN</td>\n",
       "      <td>NaN</td>\n",
       "      <td>NaN</td>\n",
       "      <td>0.00</td>\n",
       "      <td>0.00</td>\n",
       "      <td>NaN</td>\n",
       "      <td>NaN</td>\n",
       "      <td>Johnson&amp;Johnson, Oxford/AstraZeneca, Pfizer/Bi...</td>\n",
       "      <td>World Health Organization</td>\n",
       "      <td>https://covid19.who.int/</td>\n",
       "    </tr>\n",
       "    <tr>\n",
       "      <th>1</th>\n",
       "      <td>Afghanistan</td>\n",
       "      <td>AFG</td>\n",
       "      <td>2021-02-23</td>\n",
       "      <td>NaN</td>\n",
       "      <td>NaN</td>\n",
       "      <td>NaN</td>\n",
       "      <td>NaN</td>\n",
       "      <td>1367.0</td>\n",
       "      <td>NaN</td>\n",
       "      <td>NaN</td>\n",
       "      <td>NaN</td>\n",
       "      <td>35.0</td>\n",
       "      <td>Johnson&amp;Johnson, Oxford/AstraZeneca, Pfizer/Bi...</td>\n",
       "      <td>World Health Organization</td>\n",
       "      <td>https://covid19.who.int/</td>\n",
       "    </tr>\n",
       "    <tr>\n",
       "      <th>2</th>\n",
       "      <td>Afghanistan</td>\n",
       "      <td>AFG</td>\n",
       "      <td>2021-02-24</td>\n",
       "      <td>NaN</td>\n",
       "      <td>NaN</td>\n",
       "      <td>NaN</td>\n",
       "      <td>NaN</td>\n",
       "      <td>1367.0</td>\n",
       "      <td>NaN</td>\n",
       "      <td>NaN</td>\n",
       "      <td>NaN</td>\n",
       "      <td>35.0</td>\n",
       "      <td>Johnson&amp;Johnson, Oxford/AstraZeneca, Pfizer/Bi...</td>\n",
       "      <td>World Health Organization</td>\n",
       "      <td>https://covid19.who.int/</td>\n",
       "    </tr>\n",
       "    <tr>\n",
       "      <th>3</th>\n",
       "      <td>Afghanistan</td>\n",
       "      <td>AFG</td>\n",
       "      <td>2021-02-25</td>\n",
       "      <td>NaN</td>\n",
       "      <td>NaN</td>\n",
       "      <td>NaN</td>\n",
       "      <td>NaN</td>\n",
       "      <td>1367.0</td>\n",
       "      <td>NaN</td>\n",
       "      <td>NaN</td>\n",
       "      <td>NaN</td>\n",
       "      <td>35.0</td>\n",
       "      <td>Johnson&amp;Johnson, Oxford/AstraZeneca, Pfizer/Bi...</td>\n",
       "      <td>World Health Organization</td>\n",
       "      <td>https://covid19.who.int/</td>\n",
       "    </tr>\n",
       "    <tr>\n",
       "      <th>4</th>\n",
       "      <td>Afghanistan</td>\n",
       "      <td>AFG</td>\n",
       "      <td>2021-02-26</td>\n",
       "      <td>NaN</td>\n",
       "      <td>NaN</td>\n",
       "      <td>NaN</td>\n",
       "      <td>NaN</td>\n",
       "      <td>1367.0</td>\n",
       "      <td>NaN</td>\n",
       "      <td>NaN</td>\n",
       "      <td>NaN</td>\n",
       "      <td>35.0</td>\n",
       "      <td>Johnson&amp;Johnson, Oxford/AstraZeneca, Pfizer/Bi...</td>\n",
       "      <td>World Health Organization</td>\n",
       "      <td>https://covid19.who.int/</td>\n",
       "    </tr>\n",
       "    <tr>\n",
       "      <th>5</th>\n",
       "      <td>Afghanistan</td>\n",
       "      <td>AFG</td>\n",
       "      <td>2021-02-27</td>\n",
       "      <td>NaN</td>\n",
       "      <td>NaN</td>\n",
       "      <td>NaN</td>\n",
       "      <td>NaN</td>\n",
       "      <td>1367.0</td>\n",
       "      <td>NaN</td>\n",
       "      <td>NaN</td>\n",
       "      <td>NaN</td>\n",
       "      <td>35.0</td>\n",
       "      <td>Johnson&amp;Johnson, Oxford/AstraZeneca, Pfizer/Bi...</td>\n",
       "      <td>World Health Organization</td>\n",
       "      <td>https://covid19.who.int/</td>\n",
       "    </tr>\n",
       "    <tr>\n",
       "      <th>6</th>\n",
       "      <td>Afghanistan</td>\n",
       "      <td>AFG</td>\n",
       "      <td>2021-02-28</td>\n",
       "      <td>8200.0</td>\n",
       "      <td>8200.0</td>\n",
       "      <td>NaN</td>\n",
       "      <td>NaN</td>\n",
       "      <td>1367.0</td>\n",
       "      <td>0.02</td>\n",
       "      <td>0.02</td>\n",
       "      <td>NaN</td>\n",
       "      <td>35.0</td>\n",
       "      <td>Johnson&amp;Johnson, Oxford/AstraZeneca, Pfizer/Bi...</td>\n",
       "      <td>World Health Organization</td>\n",
       "      <td>https://covid19.who.int/</td>\n",
       "    </tr>\n",
       "    <tr>\n",
       "      <th>7</th>\n",
       "      <td>Afghanistan</td>\n",
       "      <td>AFG</td>\n",
       "      <td>2021-03-01</td>\n",
       "      <td>NaN</td>\n",
       "      <td>NaN</td>\n",
       "      <td>NaN</td>\n",
       "      <td>NaN</td>\n",
       "      <td>1580.0</td>\n",
       "      <td>NaN</td>\n",
       "      <td>NaN</td>\n",
       "      <td>NaN</td>\n",
       "      <td>41.0</td>\n",
       "      <td>Johnson&amp;Johnson, Oxford/AstraZeneca, Pfizer/Bi...</td>\n",
       "      <td>World Health Organization</td>\n",
       "      <td>https://covid19.who.int/</td>\n",
       "    </tr>\n",
       "    <tr>\n",
       "      <th>8</th>\n",
       "      <td>Afghanistan</td>\n",
       "      <td>AFG</td>\n",
       "      <td>2021-03-02</td>\n",
       "      <td>NaN</td>\n",
       "      <td>NaN</td>\n",
       "      <td>NaN</td>\n",
       "      <td>NaN</td>\n",
       "      <td>1794.0</td>\n",
       "      <td>NaN</td>\n",
       "      <td>NaN</td>\n",
       "      <td>NaN</td>\n",
       "      <td>46.0</td>\n",
       "      <td>Johnson&amp;Johnson, Oxford/AstraZeneca, Pfizer/Bi...</td>\n",
       "      <td>World Health Organization</td>\n",
       "      <td>https://covid19.who.int/</td>\n",
       "    </tr>\n",
       "    <tr>\n",
       "      <th>9</th>\n",
       "      <td>Afghanistan</td>\n",
       "      <td>AFG</td>\n",
       "      <td>2021-03-03</td>\n",
       "      <td>NaN</td>\n",
       "      <td>NaN</td>\n",
       "      <td>NaN</td>\n",
       "      <td>NaN</td>\n",
       "      <td>2008.0</td>\n",
       "      <td>NaN</td>\n",
       "      <td>NaN</td>\n",
       "      <td>NaN</td>\n",
       "      <td>52.0</td>\n",
       "      <td>Johnson&amp;Johnson, Oxford/AstraZeneca, Pfizer/Bi...</td>\n",
       "      <td>World Health Organization</td>\n",
       "      <td>https://covid19.who.int/</td>\n",
       "    </tr>\n",
       "    <tr>\n",
       "      <th>10</th>\n",
       "      <td>Afghanistan</td>\n",
       "      <td>AFG</td>\n",
       "      <td>2021-03-04</td>\n",
       "      <td>NaN</td>\n",
       "      <td>NaN</td>\n",
       "      <td>NaN</td>\n",
       "      <td>NaN</td>\n",
       "      <td>2221.0</td>\n",
       "      <td>NaN</td>\n",
       "      <td>NaN</td>\n",
       "      <td>NaN</td>\n",
       "      <td>57.0</td>\n",
       "      <td>Johnson&amp;Johnson, Oxford/AstraZeneca, Pfizer/Bi...</td>\n",
       "      <td>World Health Organization</td>\n",
       "      <td>https://covid19.who.int/</td>\n",
       "    </tr>\n",
       "    <tr>\n",
       "      <th>11</th>\n",
       "      <td>Afghanistan</td>\n",
       "      <td>AFG</td>\n",
       "      <td>2021-03-05</td>\n",
       "      <td>NaN</td>\n",
       "      <td>NaN</td>\n",
       "      <td>NaN</td>\n",
       "      <td>NaN</td>\n",
       "      <td>2435.0</td>\n",
       "      <td>NaN</td>\n",
       "      <td>NaN</td>\n",
       "      <td>NaN</td>\n",
       "      <td>63.0</td>\n",
       "      <td>Johnson&amp;Johnson, Oxford/AstraZeneca, Pfizer/Bi...</td>\n",
       "      <td>World Health Organization</td>\n",
       "      <td>https://covid19.who.int/</td>\n",
       "    </tr>\n",
       "    <tr>\n",
       "      <th>12</th>\n",
       "      <td>Afghanistan</td>\n",
       "      <td>AFG</td>\n",
       "      <td>2021-03-06</td>\n",
       "      <td>NaN</td>\n",
       "      <td>NaN</td>\n",
       "      <td>NaN</td>\n",
       "      <td>NaN</td>\n",
       "      <td>2649.0</td>\n",
       "      <td>NaN</td>\n",
       "      <td>NaN</td>\n",
       "      <td>NaN</td>\n",
       "      <td>68.0</td>\n",
       "      <td>Johnson&amp;Johnson, Oxford/AstraZeneca, Pfizer/Bi...</td>\n",
       "      <td>World Health Organization</td>\n",
       "      <td>https://covid19.who.int/</td>\n",
       "    </tr>\n",
       "    <tr>\n",
       "      <th>13</th>\n",
       "      <td>Afghanistan</td>\n",
       "      <td>AFG</td>\n",
       "      <td>2021-03-07</td>\n",
       "      <td>NaN</td>\n",
       "      <td>NaN</td>\n",
       "      <td>NaN</td>\n",
       "      <td>NaN</td>\n",
       "      <td>2862.0</td>\n",
       "      <td>NaN</td>\n",
       "      <td>NaN</td>\n",
       "      <td>NaN</td>\n",
       "      <td>74.0</td>\n",
       "      <td>Johnson&amp;Johnson, Oxford/AstraZeneca, Pfizer/Bi...</td>\n",
       "      <td>World Health Organization</td>\n",
       "      <td>https://covid19.who.int/</td>\n",
       "    </tr>\n",
       "    <tr>\n",
       "      <th>14</th>\n",
       "      <td>Afghanistan</td>\n",
       "      <td>AFG</td>\n",
       "      <td>2021-03-08</td>\n",
       "      <td>NaN</td>\n",
       "      <td>NaN</td>\n",
       "      <td>NaN</td>\n",
       "      <td>NaN</td>\n",
       "      <td>2862.0</td>\n",
       "      <td>NaN</td>\n",
       "      <td>NaN</td>\n",
       "      <td>NaN</td>\n",
       "      <td>74.0</td>\n",
       "      <td>Johnson&amp;Johnson, Oxford/AstraZeneca, Pfizer/Bi...</td>\n",
       "      <td>World Health Organization</td>\n",
       "      <td>https://covid19.who.int/</td>\n",
       "    </tr>\n",
       "    <tr>\n",
       "      <th>15</th>\n",
       "      <td>Afghanistan</td>\n",
       "      <td>AFG</td>\n",
       "      <td>2021-03-09</td>\n",
       "      <td>NaN</td>\n",
       "      <td>NaN</td>\n",
       "      <td>NaN</td>\n",
       "      <td>NaN</td>\n",
       "      <td>2862.0</td>\n",
       "      <td>NaN</td>\n",
       "      <td>NaN</td>\n",
       "      <td>NaN</td>\n",
       "      <td>74.0</td>\n",
       "      <td>Johnson&amp;Johnson, Oxford/AstraZeneca, Pfizer/Bi...</td>\n",
       "      <td>World Health Organization</td>\n",
       "      <td>https://covid19.who.int/</td>\n",
       "    </tr>\n",
       "    <tr>\n",
       "      <th>16</th>\n",
       "      <td>Afghanistan</td>\n",
       "      <td>AFG</td>\n",
       "      <td>2021-03-10</td>\n",
       "      <td>NaN</td>\n",
       "      <td>NaN</td>\n",
       "      <td>NaN</td>\n",
       "      <td>NaN</td>\n",
       "      <td>2862.0</td>\n",
       "      <td>NaN</td>\n",
       "      <td>NaN</td>\n",
       "      <td>NaN</td>\n",
       "      <td>74.0</td>\n",
       "      <td>Johnson&amp;Johnson, Oxford/AstraZeneca, Pfizer/Bi...</td>\n",
       "      <td>World Health Organization</td>\n",
       "      <td>https://covid19.who.int/</td>\n",
       "    </tr>\n",
       "    <tr>\n",
       "      <th>17</th>\n",
       "      <td>Afghanistan</td>\n",
       "      <td>AFG</td>\n",
       "      <td>2021-03-11</td>\n",
       "      <td>NaN</td>\n",
       "      <td>NaN</td>\n",
       "      <td>NaN</td>\n",
       "      <td>NaN</td>\n",
       "      <td>2862.0</td>\n",
       "      <td>NaN</td>\n",
       "      <td>NaN</td>\n",
       "      <td>NaN</td>\n",
       "      <td>74.0</td>\n",
       "      <td>Johnson&amp;Johnson, Oxford/AstraZeneca, Pfizer/Bi...</td>\n",
       "      <td>World Health Organization</td>\n",
       "      <td>https://covid19.who.int/</td>\n",
       "    </tr>\n",
       "    <tr>\n",
       "      <th>18</th>\n",
       "      <td>Afghanistan</td>\n",
       "      <td>AFG</td>\n",
       "      <td>2021-03-12</td>\n",
       "      <td>NaN</td>\n",
       "      <td>NaN</td>\n",
       "      <td>NaN</td>\n",
       "      <td>NaN</td>\n",
       "      <td>2862.0</td>\n",
       "      <td>NaN</td>\n",
       "      <td>NaN</td>\n",
       "      <td>NaN</td>\n",
       "      <td>74.0</td>\n",
       "      <td>Johnson&amp;Johnson, Oxford/AstraZeneca, Pfizer/Bi...</td>\n",
       "      <td>World Health Organization</td>\n",
       "      <td>https://covid19.who.int/</td>\n",
       "    </tr>\n",
       "    <tr>\n",
       "      <th>19</th>\n",
       "      <td>Afghanistan</td>\n",
       "      <td>AFG</td>\n",
       "      <td>2021-03-13</td>\n",
       "      <td>NaN</td>\n",
       "      <td>NaN</td>\n",
       "      <td>NaN</td>\n",
       "      <td>NaN</td>\n",
       "      <td>2862.0</td>\n",
       "      <td>NaN</td>\n",
       "      <td>NaN</td>\n",
       "      <td>NaN</td>\n",
       "      <td>74.0</td>\n",
       "      <td>Johnson&amp;Johnson, Oxford/AstraZeneca, Pfizer/Bi...</td>\n",
       "      <td>World Health Organization</td>\n",
       "      <td>https://covid19.who.int/</td>\n",
       "    </tr>\n",
       "  </tbody>\n",
       "</table>\n",
       "</div>"
      ],
      "text/plain": [
       "        country iso_code        date  total_vaccinations  people_vaccinated  \\\n",
       "0   Afghanistan      AFG  2021-02-22                 0.0                0.0   \n",
       "1   Afghanistan      AFG  2021-02-23                 NaN                NaN   \n",
       "2   Afghanistan      AFG  2021-02-24                 NaN                NaN   \n",
       "3   Afghanistan      AFG  2021-02-25                 NaN                NaN   \n",
       "4   Afghanistan      AFG  2021-02-26                 NaN                NaN   \n",
       "5   Afghanistan      AFG  2021-02-27                 NaN                NaN   \n",
       "6   Afghanistan      AFG  2021-02-28              8200.0             8200.0   \n",
       "7   Afghanistan      AFG  2021-03-01                 NaN                NaN   \n",
       "8   Afghanistan      AFG  2021-03-02                 NaN                NaN   \n",
       "9   Afghanistan      AFG  2021-03-03                 NaN                NaN   \n",
       "10  Afghanistan      AFG  2021-03-04                 NaN                NaN   \n",
       "11  Afghanistan      AFG  2021-03-05                 NaN                NaN   \n",
       "12  Afghanistan      AFG  2021-03-06                 NaN                NaN   \n",
       "13  Afghanistan      AFG  2021-03-07                 NaN                NaN   \n",
       "14  Afghanistan      AFG  2021-03-08                 NaN                NaN   \n",
       "15  Afghanistan      AFG  2021-03-09                 NaN                NaN   \n",
       "16  Afghanistan      AFG  2021-03-10                 NaN                NaN   \n",
       "17  Afghanistan      AFG  2021-03-11                 NaN                NaN   \n",
       "18  Afghanistan      AFG  2021-03-12                 NaN                NaN   \n",
       "19  Afghanistan      AFG  2021-03-13                 NaN                NaN   \n",
       "\n",
       "    people_fully_vaccinated  daily_vaccinations_raw  daily_vaccinations  \\\n",
       "0                       NaN                     NaN                 NaN   \n",
       "1                       NaN                     NaN              1367.0   \n",
       "2                       NaN                     NaN              1367.0   \n",
       "3                       NaN                     NaN              1367.0   \n",
       "4                       NaN                     NaN              1367.0   \n",
       "5                       NaN                     NaN              1367.0   \n",
       "6                       NaN                     NaN              1367.0   \n",
       "7                       NaN                     NaN              1580.0   \n",
       "8                       NaN                     NaN              1794.0   \n",
       "9                       NaN                     NaN              2008.0   \n",
       "10                      NaN                     NaN              2221.0   \n",
       "11                      NaN                     NaN              2435.0   \n",
       "12                      NaN                     NaN              2649.0   \n",
       "13                      NaN                     NaN              2862.0   \n",
       "14                      NaN                     NaN              2862.0   \n",
       "15                      NaN                     NaN              2862.0   \n",
       "16                      NaN                     NaN              2862.0   \n",
       "17                      NaN                     NaN              2862.0   \n",
       "18                      NaN                     NaN              2862.0   \n",
       "19                      NaN                     NaN              2862.0   \n",
       "\n",
       "    total_vaccinations_per_hundred  people_vaccinated_per_hundred  \\\n",
       "0                             0.00                           0.00   \n",
       "1                              NaN                            NaN   \n",
       "2                              NaN                            NaN   \n",
       "3                              NaN                            NaN   \n",
       "4                              NaN                            NaN   \n",
       "5                              NaN                            NaN   \n",
       "6                             0.02                           0.02   \n",
       "7                              NaN                            NaN   \n",
       "8                              NaN                            NaN   \n",
       "9                              NaN                            NaN   \n",
       "10                             NaN                            NaN   \n",
       "11                             NaN                            NaN   \n",
       "12                             NaN                            NaN   \n",
       "13                             NaN                            NaN   \n",
       "14                             NaN                            NaN   \n",
       "15                             NaN                            NaN   \n",
       "16                             NaN                            NaN   \n",
       "17                             NaN                            NaN   \n",
       "18                             NaN                            NaN   \n",
       "19                             NaN                            NaN   \n",
       "\n",
       "    people_fully_vaccinated_per_hundred  daily_vaccinations_per_million  \\\n",
       "0                                   NaN                             NaN   \n",
       "1                                   NaN                            35.0   \n",
       "2                                   NaN                            35.0   \n",
       "3                                   NaN                            35.0   \n",
       "4                                   NaN                            35.0   \n",
       "5                                   NaN                            35.0   \n",
       "6                                   NaN                            35.0   \n",
       "7                                   NaN                            41.0   \n",
       "8                                   NaN                            46.0   \n",
       "9                                   NaN                            52.0   \n",
       "10                                  NaN                            57.0   \n",
       "11                                  NaN                            63.0   \n",
       "12                                  NaN                            68.0   \n",
       "13                                  NaN                            74.0   \n",
       "14                                  NaN                            74.0   \n",
       "15                                  NaN                            74.0   \n",
       "16                                  NaN                            74.0   \n",
       "17                                  NaN                            74.0   \n",
       "18                                  NaN                            74.0   \n",
       "19                                  NaN                            74.0   \n",
       "\n",
       "                                             vaccines  \\\n",
       "0   Johnson&Johnson, Oxford/AstraZeneca, Pfizer/Bi...   \n",
       "1   Johnson&Johnson, Oxford/AstraZeneca, Pfizer/Bi...   \n",
       "2   Johnson&Johnson, Oxford/AstraZeneca, Pfizer/Bi...   \n",
       "3   Johnson&Johnson, Oxford/AstraZeneca, Pfizer/Bi...   \n",
       "4   Johnson&Johnson, Oxford/AstraZeneca, Pfizer/Bi...   \n",
       "5   Johnson&Johnson, Oxford/AstraZeneca, Pfizer/Bi...   \n",
       "6   Johnson&Johnson, Oxford/AstraZeneca, Pfizer/Bi...   \n",
       "7   Johnson&Johnson, Oxford/AstraZeneca, Pfizer/Bi...   \n",
       "8   Johnson&Johnson, Oxford/AstraZeneca, Pfizer/Bi...   \n",
       "9   Johnson&Johnson, Oxford/AstraZeneca, Pfizer/Bi...   \n",
       "10  Johnson&Johnson, Oxford/AstraZeneca, Pfizer/Bi...   \n",
       "11  Johnson&Johnson, Oxford/AstraZeneca, Pfizer/Bi...   \n",
       "12  Johnson&Johnson, Oxford/AstraZeneca, Pfizer/Bi...   \n",
       "13  Johnson&Johnson, Oxford/AstraZeneca, Pfizer/Bi...   \n",
       "14  Johnson&Johnson, Oxford/AstraZeneca, Pfizer/Bi...   \n",
       "15  Johnson&Johnson, Oxford/AstraZeneca, Pfizer/Bi...   \n",
       "16  Johnson&Johnson, Oxford/AstraZeneca, Pfizer/Bi...   \n",
       "17  Johnson&Johnson, Oxford/AstraZeneca, Pfizer/Bi...   \n",
       "18  Johnson&Johnson, Oxford/AstraZeneca, Pfizer/Bi...   \n",
       "19  Johnson&Johnson, Oxford/AstraZeneca, Pfizer/Bi...   \n",
       "\n",
       "                  source_name            source_website  \n",
       "0   World Health Organization  https://covid19.who.int/  \n",
       "1   World Health Organization  https://covid19.who.int/  \n",
       "2   World Health Organization  https://covid19.who.int/  \n",
       "3   World Health Organization  https://covid19.who.int/  \n",
       "4   World Health Organization  https://covid19.who.int/  \n",
       "5   World Health Organization  https://covid19.who.int/  \n",
       "6   World Health Organization  https://covid19.who.int/  \n",
       "7   World Health Organization  https://covid19.who.int/  \n",
       "8   World Health Organization  https://covid19.who.int/  \n",
       "9   World Health Organization  https://covid19.who.int/  \n",
       "10  World Health Organization  https://covid19.who.int/  \n",
       "11  World Health Organization  https://covid19.who.int/  \n",
       "12  World Health Organization  https://covid19.who.int/  \n",
       "13  World Health Organization  https://covid19.who.int/  \n",
       "14  World Health Organization  https://covid19.who.int/  \n",
       "15  World Health Organization  https://covid19.who.int/  \n",
       "16  World Health Organization  https://covid19.who.int/  \n",
       "17  World Health Organization  https://covid19.who.int/  \n",
       "18  World Health Organization  https://covid19.who.int/  \n",
       "19  World Health Organization  https://covid19.who.int/  "
      ]
     },
     "execution_count": 2,
     "metadata": {},
     "output_type": "execute_result"
    }
   ],
   "source": [
    "data = pd.read_csv('country_vaccinations.csv')\n",
    "data.head(20)"
   ]
  },
  {
   "cell_type": "code",
   "execution_count": 3,
   "metadata": {
    "scrolled": true
   },
   "outputs": [
    {
     "name": "stdout",
     "output_type": "stream",
     "text": [
      "<class 'pandas.core.frame.DataFrame'>\n",
      "RangeIndex: 31240 entries, 0 to 31239\n",
      "Data columns (total 15 columns):\n",
      " #   Column                               Non-Null Count  Dtype  \n",
      "---  ------                               --------------  -----  \n",
      " 0   country                              31240 non-null  object \n",
      " 1   iso_code                             31240 non-null  object \n",
      " 2   date                                 31240 non-null  object \n",
      " 3   total_vaccinations                   17451 non-null  float64\n",
      " 4   people_vaccinated                    16554 non-null  float64\n",
      " 5   people_fully_vaccinated              13795 non-null  float64\n",
      " 6   daily_vaccinations_raw               14421 non-null  float64\n",
      " 7   daily_vaccinations                   30948 non-null  float64\n",
      " 8   total_vaccinations_per_hundred       17451 non-null  float64\n",
      " 9   people_vaccinated_per_hundred        16554 non-null  float64\n",
      " 10  people_fully_vaccinated_per_hundred  13795 non-null  float64\n",
      " 11  daily_vaccinations_per_million       30948 non-null  float64\n",
      " 12  vaccines                             31240 non-null  object \n",
      " 13  source_name                          31240 non-null  object \n",
      " 14  source_website                       31240 non-null  object \n",
      "dtypes: float64(9), object(6)\n",
      "memory usage: 3.6+ MB\n"
     ]
    }
   ],
   "source": [
    "data.info()"
   ]
  },
  {
   "cell_type": "code",
   "execution_count": 4,
   "metadata": {
    "scrolled": true
   },
   "outputs": [
    {
     "data": {
      "text/html": [
       "<div>\n",
       "<style scoped>\n",
       "    .dataframe tbody tr th:only-of-type {\n",
       "        vertical-align: middle;\n",
       "    }\n",
       "\n",
       "    .dataframe tbody tr th {\n",
       "        vertical-align: top;\n",
       "    }\n",
       "\n",
       "    .dataframe thead th {\n",
       "        text-align: right;\n",
       "    }\n",
       "</style>\n",
       "<table border=\"1\" class=\"dataframe\">\n",
       "  <thead>\n",
       "    <tr style=\"text-align: right;\">\n",
       "      <th></th>\n",
       "      <th>total_vaccinations</th>\n",
       "      <th>people_vaccinated</th>\n",
       "      <th>people_fully_vaccinated</th>\n",
       "      <th>daily_vaccinations_raw</th>\n",
       "      <th>daily_vaccinations</th>\n",
       "      <th>total_vaccinations_per_hundred</th>\n",
       "      <th>people_vaccinated_per_hundred</th>\n",
       "      <th>people_fully_vaccinated_per_hundred</th>\n",
       "      <th>daily_vaccinations_per_million</th>\n",
       "    </tr>\n",
       "  </thead>\n",
       "  <tbody>\n",
       "    <tr>\n",
       "      <th>count</th>\n",
       "      <td>1.745100e+04</td>\n",
       "      <td>1.655400e+04</td>\n",
       "      <td>1.379500e+04</td>\n",
       "      <td>1.442100e+04</td>\n",
       "      <td>3.094800e+04</td>\n",
       "      <td>17451.000000</td>\n",
       "      <td>16554.000000</td>\n",
       "      <td>13795.000000</td>\n",
       "      <td>30948.000000</td>\n",
       "    </tr>\n",
       "    <tr>\n",
       "      <th>mean</th>\n",
       "      <td>1.200444e+07</td>\n",
       "      <td>5.704551e+06</td>\n",
       "      <td>3.293973e+06</td>\n",
       "      <td>2.273661e+05</td>\n",
       "      <td>1.149718e+05</td>\n",
       "      <td>29.283554</td>\n",
       "      <td>19.181574</td>\n",
       "      <td>12.340698</td>\n",
       "      <td>3426.365969</td>\n",
       "    </tr>\n",
       "    <tr>\n",
       "      <th>std</th>\n",
       "      <td>6.622349e+07</td>\n",
       "      <td>2.101612e+07</td>\n",
       "      <td>1.234425e+07</td>\n",
       "      <td>1.258556e+06</td>\n",
       "      <td>8.460548e+05</td>\n",
       "      <td>35.042304</td>\n",
       "      <td>20.734193</td>\n",
       "      <td>15.857682</td>\n",
       "      <td>4572.377684</td>\n",
       "    </tr>\n",
       "    <tr>\n",
       "      <th>min</th>\n",
       "      <td>0.000000e+00</td>\n",
       "      <td>0.000000e+00</td>\n",
       "      <td>1.000000e+00</td>\n",
       "      <td>0.000000e+00</td>\n",
       "      <td>0.000000e+00</td>\n",
       "      <td>0.000000</td>\n",
       "      <td>0.000000</td>\n",
       "      <td>0.000000</td>\n",
       "      <td>0.000000</td>\n",
       "    </tr>\n",
       "    <tr>\n",
       "      <th>25%</th>\n",
       "      <td>1.262015e+05</td>\n",
       "      <td>9.999100e+04</td>\n",
       "      <td>4.832450e+04</td>\n",
       "      <td>4.324000e+03</td>\n",
       "      <td>8.520000e+02</td>\n",
       "      <td>2.970000</td>\n",
       "      <td>2.580000</td>\n",
       "      <td>1.320000</td>\n",
       "      <td>412.000000</td>\n",
       "    </tr>\n",
       "    <tr>\n",
       "      <th>50%</th>\n",
       "      <td>8.890780e+05</td>\n",
       "      <td>6.450395e+05</td>\n",
       "      <td>3.632100e+05</td>\n",
       "      <td>2.133600e+04</td>\n",
       "      <td>6.471000e+03</td>\n",
       "      <td>14.510000</td>\n",
       "      <td>10.730000</td>\n",
       "      <td>5.560000</td>\n",
       "      <td>1851.000000</td>\n",
       "    </tr>\n",
       "    <tr>\n",
       "      <th>75%</th>\n",
       "      <td>4.213660e+06</td>\n",
       "      <td>2.809300e+06</td>\n",
       "      <td>1.635366e+06</td>\n",
       "      <td>9.441700e+04</td>\n",
       "      <td>3.545425e+04</td>\n",
       "      <td>44.460000</td>\n",
       "      <td>30.890000</td>\n",
       "      <td>17.610000</td>\n",
       "      <td>5123.000000</td>\n",
       "    </tr>\n",
       "    <tr>\n",
       "      <th>max</th>\n",
       "      <td>1.426347e+09</td>\n",
       "      <td>6.220000e+08</td>\n",
       "      <td>2.232990e+08</td>\n",
       "      <td>2.474100e+07</td>\n",
       "      <td>2.242429e+07</td>\n",
       "      <td>232.350000</td>\n",
       "      <td>116.660000</td>\n",
       "      <td>115.690000</td>\n",
       "      <td>118759.000000</td>\n",
       "    </tr>\n",
       "  </tbody>\n",
       "</table>\n",
       "</div>"
      ],
      "text/plain": [
       "       total_vaccinations  people_vaccinated  people_fully_vaccinated  \\\n",
       "count        1.745100e+04       1.655400e+04             1.379500e+04   \n",
       "mean         1.200444e+07       5.704551e+06             3.293973e+06   \n",
       "std          6.622349e+07       2.101612e+07             1.234425e+07   \n",
       "min          0.000000e+00       0.000000e+00             1.000000e+00   \n",
       "25%          1.262015e+05       9.999100e+04             4.832450e+04   \n",
       "50%          8.890780e+05       6.450395e+05             3.632100e+05   \n",
       "75%          4.213660e+06       2.809300e+06             1.635366e+06   \n",
       "max          1.426347e+09       6.220000e+08             2.232990e+08   \n",
       "\n",
       "       daily_vaccinations_raw  daily_vaccinations  \\\n",
       "count            1.442100e+04        3.094800e+04   \n",
       "mean             2.273661e+05        1.149718e+05   \n",
       "std              1.258556e+06        8.460548e+05   \n",
       "min              0.000000e+00        0.000000e+00   \n",
       "25%              4.324000e+03        8.520000e+02   \n",
       "50%              2.133600e+04        6.471000e+03   \n",
       "75%              9.441700e+04        3.545425e+04   \n",
       "max              2.474100e+07        2.242429e+07   \n",
       "\n",
       "       total_vaccinations_per_hundred  people_vaccinated_per_hundred  \\\n",
       "count                    17451.000000                   16554.000000   \n",
       "mean                        29.283554                      19.181574   \n",
       "std                         35.042304                      20.734193   \n",
       "min                          0.000000                       0.000000   \n",
       "25%                          2.970000                       2.580000   \n",
       "50%                         14.510000                      10.730000   \n",
       "75%                         44.460000                      30.890000   \n",
       "max                        232.350000                     116.660000   \n",
       "\n",
       "       people_fully_vaccinated_per_hundred  daily_vaccinations_per_million  \n",
       "count                         13795.000000                    30948.000000  \n",
       "mean                             12.340698                     3426.365969  \n",
       "std                              15.857682                     4572.377684  \n",
       "min                               0.000000                        0.000000  \n",
       "25%                               1.320000                      412.000000  \n",
       "50%                               5.560000                     1851.000000  \n",
       "75%                              17.610000                     5123.000000  \n",
       "max                             115.690000                   118759.000000  "
      ]
     },
     "execution_count": 4,
     "metadata": {},
     "output_type": "execute_result"
    }
   ],
   "source": [
    "data.describe()"
   ]
  },
  {
   "cell_type": "code",
   "execution_count": 5,
   "metadata": {},
   "outputs": [
    {
     "data": {
      "text/plain": [
       "country                                    0\n",
       "iso_code                                   0\n",
       "date                                       0\n",
       "total_vaccinations                     13789\n",
       "people_vaccinated                      14686\n",
       "people_fully_vaccinated                17445\n",
       "daily_vaccinations_raw                 16819\n",
       "daily_vaccinations                       292\n",
       "total_vaccinations_per_hundred         13789\n",
       "people_vaccinated_per_hundred          14686\n",
       "people_fully_vaccinated_per_hundred    17445\n",
       "daily_vaccinations_per_million           292\n",
       "vaccines                                   0\n",
       "source_name                                0\n",
       "source_website                             0\n",
       "dtype: int64"
      ]
     },
     "execution_count": 5,
     "metadata": {},
     "output_type": "execute_result"
    }
   ],
   "source": [
    "data.isnull().sum()"
   ]
  },
  {
   "cell_type": "markdown",
   "metadata": {},
   "source": [
    "## EDA"
   ]
  },
  {
   "cell_type": "code",
   "execution_count": 6,
   "metadata": {},
   "outputs": [
    {
     "data": {
      "text/plain": [
       "92"
      ]
     },
     "execution_count": 6,
     "metadata": {},
     "output_type": "execute_result"
    }
   ],
   "source": [
    "data['source_name'].nunique()"
   ]
  },
  {
   "cell_type": "code",
   "execution_count": 7,
   "metadata": {},
   "outputs": [
    {
     "data": {
      "text/plain": [
       "148"
      ]
     },
     "execution_count": 7,
     "metadata": {},
     "output_type": "execute_result"
    }
   ],
   "source": [
    "data['source_website'].nunique()"
   ]
  },
  {
   "cell_type": "code",
   "execution_count": 8,
   "metadata": {},
   "outputs": [
    {
     "data": {
      "text/plain": [
       "218"
      ]
     },
     "execution_count": 8,
     "metadata": {},
     "output_type": "execute_result"
    }
   ],
   "source": [
    "data['iso_code'].nunique()"
   ]
  },
  {
   "cell_type": "code",
   "execution_count": 9,
   "metadata": {},
   "outputs": [
    {
     "data": {
      "text/plain": [
       "218"
      ]
     },
     "execution_count": 9,
     "metadata": {},
     "output_type": "execute_result"
    }
   ],
   "source": [
    "data['country'].nunique()"
   ]
  },
  {
   "cell_type": "code",
   "execution_count": 10,
   "metadata": {},
   "outputs": [
    {
     "data": {
      "text/html": [
       "<div>\n",
       "<style scoped>\n",
       "    .dataframe tbody tr th:only-of-type {\n",
       "        vertical-align: middle;\n",
       "    }\n",
       "\n",
       "    .dataframe tbody tr th {\n",
       "        vertical-align: top;\n",
       "    }\n",
       "\n",
       "    .dataframe thead th {\n",
       "        text-align: right;\n",
       "    }\n",
       "</style>\n",
       "<table border=\"1\" class=\"dataframe\">\n",
       "  <thead>\n",
       "    <tr style=\"text-align: right;\">\n",
       "      <th></th>\n",
       "      <th>country</th>\n",
       "      <th>date</th>\n",
       "      <th>vaccines</th>\n",
       "      <th>daily_vaccinations</th>\n",
       "      <th>daily_vaccinations_per_million</th>\n",
       "    </tr>\n",
       "  </thead>\n",
       "  <tbody>\n",
       "    <tr>\n",
       "      <th>0</th>\n",
       "      <td>Afghanistan</td>\n",
       "      <td>2021-02-22</td>\n",
       "      <td>Johnson&amp;Johnson, Oxford/AstraZeneca, Pfizer/Bi...</td>\n",
       "      <td>NaN</td>\n",
       "      <td>NaN</td>\n",
       "    </tr>\n",
       "    <tr>\n",
       "      <th>1</th>\n",
       "      <td>Afghanistan</td>\n",
       "      <td>2021-02-23</td>\n",
       "      <td>Johnson&amp;Johnson, Oxford/AstraZeneca, Pfizer/Bi...</td>\n",
       "      <td>1367.0</td>\n",
       "      <td>35.0</td>\n",
       "    </tr>\n",
       "    <tr>\n",
       "      <th>2</th>\n",
       "      <td>Afghanistan</td>\n",
       "      <td>2021-02-24</td>\n",
       "      <td>Johnson&amp;Johnson, Oxford/AstraZeneca, Pfizer/Bi...</td>\n",
       "      <td>1367.0</td>\n",
       "      <td>35.0</td>\n",
       "    </tr>\n",
       "    <tr>\n",
       "      <th>3</th>\n",
       "      <td>Afghanistan</td>\n",
       "      <td>2021-02-25</td>\n",
       "      <td>Johnson&amp;Johnson, Oxford/AstraZeneca, Pfizer/Bi...</td>\n",
       "      <td>1367.0</td>\n",
       "      <td>35.0</td>\n",
       "    </tr>\n",
       "    <tr>\n",
       "      <th>4</th>\n",
       "      <td>Afghanistan</td>\n",
       "      <td>2021-02-26</td>\n",
       "      <td>Johnson&amp;Johnson, Oxford/AstraZeneca, Pfizer/Bi...</td>\n",
       "      <td>1367.0</td>\n",
       "      <td>35.0</td>\n",
       "    </tr>\n",
       "    <tr>\n",
       "      <th>...</th>\n",
       "      <td>...</td>\n",
       "      <td>...</td>\n",
       "      <td>...</td>\n",
       "      <td>...</td>\n",
       "      <td>...</td>\n",
       "    </tr>\n",
       "    <tr>\n",
       "      <th>31235</th>\n",
       "      <td>Zimbabwe</td>\n",
       "      <td>2021-07-11</td>\n",
       "      <td>Sinopharm/Beijing</td>\n",
       "      <td>18598.0</td>\n",
       "      <td>1251.0</td>\n",
       "    </tr>\n",
       "    <tr>\n",
       "      <th>31236</th>\n",
       "      <td>Zimbabwe</td>\n",
       "      <td>2021-07-12</td>\n",
       "      <td>Sinopharm/Beijing</td>\n",
       "      <td>23205.0</td>\n",
       "      <td>1561.0</td>\n",
       "    </tr>\n",
       "    <tr>\n",
       "      <th>31237</th>\n",
       "      <td>Zimbabwe</td>\n",
       "      <td>2021-07-13</td>\n",
       "      <td>Sinopharm/Beijing</td>\n",
       "      <td>27567.0</td>\n",
       "      <td>1855.0</td>\n",
       "    </tr>\n",
       "    <tr>\n",
       "      <th>31238</th>\n",
       "      <td>Zimbabwe</td>\n",
       "      <td>2021-07-14</td>\n",
       "      <td>Sinopharm/Beijing</td>\n",
       "      <td>30698.0</td>\n",
       "      <td>2065.0</td>\n",
       "    </tr>\n",
       "    <tr>\n",
       "      <th>31239</th>\n",
       "      <td>Zimbabwe</td>\n",
       "      <td>2021-07-15</td>\n",
       "      <td>Sinopharm/Beijing</td>\n",
       "      <td>33326.0</td>\n",
       "      <td>2242.0</td>\n",
       "    </tr>\n",
       "  </tbody>\n",
       "</table>\n",
       "<p>31240 rows × 5 columns</p>\n",
       "</div>"
      ],
      "text/plain": [
       "           country        date  \\\n",
       "0      Afghanistan  2021-02-22   \n",
       "1      Afghanistan  2021-02-23   \n",
       "2      Afghanistan  2021-02-24   \n",
       "3      Afghanistan  2021-02-25   \n",
       "4      Afghanistan  2021-02-26   \n",
       "...            ...         ...   \n",
       "31235     Zimbabwe  2021-07-11   \n",
       "31236     Zimbabwe  2021-07-12   \n",
       "31237     Zimbabwe  2021-07-13   \n",
       "31238     Zimbabwe  2021-07-14   \n",
       "31239     Zimbabwe  2021-07-15   \n",
       "\n",
       "                                                vaccines  daily_vaccinations  \\\n",
       "0      Johnson&Johnson, Oxford/AstraZeneca, Pfizer/Bi...                 NaN   \n",
       "1      Johnson&Johnson, Oxford/AstraZeneca, Pfizer/Bi...              1367.0   \n",
       "2      Johnson&Johnson, Oxford/AstraZeneca, Pfizer/Bi...              1367.0   \n",
       "3      Johnson&Johnson, Oxford/AstraZeneca, Pfizer/Bi...              1367.0   \n",
       "4      Johnson&Johnson, Oxford/AstraZeneca, Pfizer/Bi...              1367.0   \n",
       "...                                                  ...                 ...   \n",
       "31235                                  Sinopharm/Beijing             18598.0   \n",
       "31236                                  Sinopharm/Beijing             23205.0   \n",
       "31237                                  Sinopharm/Beijing             27567.0   \n",
       "31238                                  Sinopharm/Beijing             30698.0   \n",
       "31239                                  Sinopharm/Beijing             33326.0   \n",
       "\n",
       "       daily_vaccinations_per_million  \n",
       "0                                 NaN  \n",
       "1                                35.0  \n",
       "2                                35.0  \n",
       "3                                35.0  \n",
       "4                                35.0  \n",
       "...                               ...  \n",
       "31235                          1251.0  \n",
       "31236                          1561.0  \n",
       "31237                          1855.0  \n",
       "31238                          2065.0  \n",
       "31239                          2242.0  \n",
       "\n",
       "[31240 rows x 5 columns]"
      ]
     },
     "execution_count": 10,
     "metadata": {},
     "output_type": "execute_result"
    }
   ],
   "source": [
    "cleanData = data[['country','date','vaccines','daily_vaccinations','daily_vaccinations_per_million']]\n",
    "cleanData"
   ]
  },
  {
   "cell_type": "markdown",
   "metadata": {},
   "source": [
    "## Data Preprocessing"
   ]
  },
  {
   "cell_type": "markdown",
   "metadata": {},
   "source": [
    "### Label Encoder"
   ]
  },
  {
   "cell_type": "code",
   "execution_count": 35,
   "metadata": {},
   "outputs": [
    {
     "data": {
      "text/html": [
       "<div>\n",
       "<style scoped>\n",
       "    .dataframe tbody tr th:only-of-type {\n",
       "        vertical-align: middle;\n",
       "    }\n",
       "\n",
       "    .dataframe tbody tr th {\n",
       "        vertical-align: top;\n",
       "    }\n",
       "\n",
       "    .dataframe thead th {\n",
       "        text-align: right;\n",
       "    }\n",
       "</style>\n",
       "<table border=\"1\" class=\"dataframe\">\n",
       "  <thead>\n",
       "    <tr style=\"text-align: right;\">\n",
       "      <th></th>\n",
       "      <th>country</th>\n",
       "      <th>date</th>\n",
       "      <th>vaccines</th>\n",
       "      <th>daily_vaccinations</th>\n",
       "      <th>daily_vaccinations_per_million</th>\n",
       "    </tr>\n",
       "  </thead>\n",
       "  <tbody>\n",
       "    <tr>\n",
       "      <th>0</th>\n",
       "      <td>0</td>\n",
       "      <td>82</td>\n",
       "      <td>17</td>\n",
       "      <td>114971.789486</td>\n",
       "      <td>3426.365969</td>\n",
       "    </tr>\n",
       "    <tr>\n",
       "      <th>1</th>\n",
       "      <td>0</td>\n",
       "      <td>83</td>\n",
       "      <td>17</td>\n",
       "      <td>1367.000000</td>\n",
       "      <td>35.000000</td>\n",
       "    </tr>\n",
       "    <tr>\n",
       "      <th>2</th>\n",
       "      <td>0</td>\n",
       "      <td>84</td>\n",
       "      <td>17</td>\n",
       "      <td>1367.000000</td>\n",
       "      <td>35.000000</td>\n",
       "    </tr>\n",
       "    <tr>\n",
       "      <th>3</th>\n",
       "      <td>0</td>\n",
       "      <td>85</td>\n",
       "      <td>17</td>\n",
       "      <td>1367.000000</td>\n",
       "      <td>35.000000</td>\n",
       "    </tr>\n",
       "    <tr>\n",
       "      <th>4</th>\n",
       "      <td>0</td>\n",
       "      <td>86</td>\n",
       "      <td>17</td>\n",
       "      <td>1367.000000</td>\n",
       "      <td>35.000000</td>\n",
       "    </tr>\n",
       "    <tr>\n",
       "      <th>...</th>\n",
       "      <td>...</td>\n",
       "      <td>...</td>\n",
       "      <td>...</td>\n",
       "      <td>...</td>\n",
       "      <td>...</td>\n",
       "    </tr>\n",
       "    <tr>\n",
       "      <th>31235</th>\n",
       "      <td>217</td>\n",
       "      <td>221</td>\n",
       "      <td>50</td>\n",
       "      <td>18598.000000</td>\n",
       "      <td>1251.000000</td>\n",
       "    </tr>\n",
       "    <tr>\n",
       "      <th>31236</th>\n",
       "      <td>217</td>\n",
       "      <td>222</td>\n",
       "      <td>50</td>\n",
       "      <td>23205.000000</td>\n",
       "      <td>1561.000000</td>\n",
       "    </tr>\n",
       "    <tr>\n",
       "      <th>31237</th>\n",
       "      <td>217</td>\n",
       "      <td>223</td>\n",
       "      <td>50</td>\n",
       "      <td>27567.000000</td>\n",
       "      <td>1855.000000</td>\n",
       "    </tr>\n",
       "    <tr>\n",
       "      <th>31238</th>\n",
       "      <td>217</td>\n",
       "      <td>224</td>\n",
       "      <td>50</td>\n",
       "      <td>30698.000000</td>\n",
       "      <td>2065.000000</td>\n",
       "    </tr>\n",
       "    <tr>\n",
       "      <th>31239</th>\n",
       "      <td>217</td>\n",
       "      <td>225</td>\n",
       "      <td>50</td>\n",
       "      <td>33326.000000</td>\n",
       "      <td>2242.000000</td>\n",
       "    </tr>\n",
       "  </tbody>\n",
       "</table>\n",
       "<p>31240 rows × 5 columns</p>\n",
       "</div>"
      ],
      "text/plain": [
       "       country  date  vaccines  daily_vaccinations  \\\n",
       "0            0    82        17       114971.789486   \n",
       "1            0    83        17         1367.000000   \n",
       "2            0    84        17         1367.000000   \n",
       "3            0    85        17         1367.000000   \n",
       "4            0    86        17         1367.000000   \n",
       "...        ...   ...       ...                 ...   \n",
       "31235      217   221        50        18598.000000   \n",
       "31236      217   222        50        23205.000000   \n",
       "31237      217   223        50        27567.000000   \n",
       "31238      217   224        50        30698.000000   \n",
       "31239      217   225        50        33326.000000   \n",
       "\n",
       "       daily_vaccinations_per_million  \n",
       "0                         3426.365969  \n",
       "1                           35.000000  \n",
       "2                           35.000000  \n",
       "3                           35.000000  \n",
       "4                           35.000000  \n",
       "...                               ...  \n",
       "31235                     1251.000000  \n",
       "31236                     1561.000000  \n",
       "31237                     1855.000000  \n",
       "31238                     2065.000000  \n",
       "31239                     2242.000000  \n",
       "\n",
       "[31240 rows x 5 columns]"
      ]
     },
     "execution_count": 35,
     "metadata": {},
     "output_type": "execute_result"
    }
   ],
   "source": [
    "from sklearn.preprocessing import LabelEncoder\n",
    "le1 = LabelEncoder()\n",
    "cleanData['country']=le1.fit_transform(cleanData['country'])\n",
    "le2 = LabelEncoder()\n",
    "cleanData['date']=le2.fit_transform(cleanData['date'])\n",
    "le3 = LabelEncoder()\n",
    "cleanData['vaccines']=le3.fit_transform(cleanData['vaccines'])\n",
    "cleanData"
   ]
  },
  {
   "cell_type": "markdown",
   "metadata": {},
   "source": [
    "### Missing values"
   ]
  },
  {
   "cell_type": "code",
   "execution_count": 36,
   "metadata": {
    "scrolled": true
   },
   "outputs": [],
   "source": [
    "from sklearn.impute import SimpleImputer\n",
    "imputer = SimpleImputer(missing_values=np.nan, strategy='mean')\n",
    "imputer.fit(cleanData[['daily_vaccinations','daily_vaccinations_per_million']])\n",
    "cleanData[['daily_vaccinations','daily_vaccinations_per_million']] = imputer.transform(cleanData[['daily_vaccinations','daily_vaccinations_per_million']])"
   ]
  },
  {
   "cell_type": "code",
   "execution_count": 13,
   "metadata": {
    "scrolled": true
   },
   "outputs": [
    {
     "name": "stdout",
     "output_type": "stream",
     "text": [
      "<class 'pandas.core.frame.DataFrame'>\n",
      "RangeIndex: 31240 entries, 0 to 31239\n",
      "Data columns (total 5 columns):\n",
      " #   Column                          Non-Null Count  Dtype  \n",
      "---  ------                          --------------  -----  \n",
      " 0   country                         31240 non-null  int32  \n",
      " 1   date                            31240 non-null  int32  \n",
      " 2   vaccines                        31240 non-null  int32  \n",
      " 3   daily_vaccinations              31240 non-null  float64\n",
      " 4   daily_vaccinations_per_million  31240 non-null  float64\n",
      "dtypes: float64(2), int32(3)\n",
      "memory usage: 854.3 KB\n"
     ]
    }
   ],
   "source": [
    "cleanData.info()"
   ]
  },
  {
   "cell_type": "code",
   "execution_count": null,
   "metadata": {},
   "outputs": [],
   "source": []
  },
  {
   "cell_type": "markdown",
   "metadata": {},
   "source": [
    "## Visualization"
   ]
  },
  {
   "cell_type": "code",
   "execution_count": 14,
   "metadata": {},
   "outputs": [
    {
     "data": {
      "text/plain": [
       "<seaborn.axisgrid.FacetGrid at 0x1ad4f95b9a0>"
      ]
     },
     "execution_count": 14,
     "metadata": {},
     "output_type": "execute_result"
    },
    {
     "data": {
      "image/png": "[encoded data removed]",
      "text/plain": [
       "<Figure size 360x360 with 1 Axes>"
      ]
     },
     "metadata": {
      "needs_background": "light"
     },
     "output_type": "display_data"
    }
   ],
   "source": [
    "sns.displot(cleanData,x='date',kind='kde')"
   ]
  },
  {
   "cell_type": "code",
   "execution_count": 15,
   "metadata": {},
   "outputs": [
    {
     "data": {
      "text/plain": [
       "<seaborn.axisgrid.FacetGrid at 0x1ad503ab910>"
      ]
     },
     "execution_count": 15,
     "metadata": {},
     "output_type": "execute_result"
    },
    {
     "data": {
      "image/png": "[encoded data removed]",
      "text/plain": [
       "<Figure size 360x360 with 1 Axes>"
      ]
     },
     "metadata": {
      "needs_background": "light"
     },
     "output_type": "display_data"
    }
   ],
   "source": [
    "sns.displot(cleanData,x='vaccines',kind='kde')"
   ]
  },
  {
   "cell_type": "code",
   "execution_count": 16,
   "metadata": {},
   "outputs": [
    {
     "data": {
      "text/plain": [
       "<AxesSubplot:>"
      ]
     },
     "execution_count": 16,
     "metadata": {},
     "output_type": "execute_result"
    },
    {
     "data": {
      "image/png": "[encoded data removed]",
      "text/plain": [
       "<Figure size 1080x1080 with 2 Axes>"
      ]
     },
     "metadata": {
      "needs_background": "light"
     },
     "output_type": "display_data"
    }
   ],
   "source": [
    "cleanData_corr = cleanData.corr()\n",
    "plt.figure(figsize=(15,15))\n",
    "sns.heatmap(cleanData_corr, cbar=True, square= True, fmt='.1f', annot=True, annot_kws={'size':15}, cmap='Greens')"
   ]
  },
  {
   "cell_type": "markdown",
   "metadata": {},
   "source": [
    "## Prepare Data for Machine learning"
   ]
  },
  {
   "cell_type": "code",
   "execution_count": 17,
   "metadata": {
    "scrolled": true
   },
   "outputs": [],
   "source": [
    "X = cleanData.drop(['daily_vaccinations','daily_vaccinations_per_million'],axis=1)\n",
    "y = cleanData['daily_vaccinations']"
   ]
  },
  {
   "cell_type": "markdown",
   "metadata": {},
   "source": [
    "### Feature Scaling"
   ]
  },
  {
   "cell_type": "code",
   "execution_count": 18,
   "metadata": {},
   "outputs": [],
   "source": [
    "from sklearn.preprocessing import StandardScaler\n",
    "sc = StandardScaler()\n",
    "X = sc.fit_transform(X)"
   ]
  },
  {
   "cell_type": "code",
   "execution_count": 19,
   "metadata": {},
   "outputs": [],
   "source": [
    "from sklearn.model_selection import train_test_split\n",
    "X_train, X_test, y_train, y_test = train_test_split(X, y, test_size = 0.2, random_state = 1)"
   ]
  },
  {
   "cell_type": "markdown",
   "metadata": {},
   "source": [
    "## Train your model"
   ]
  },
  {
   "cell_type": "markdown",
   "metadata": {},
   "source": [
    "### Linear Regression"
   ]
  },
  {
   "cell_type": "code",
   "execution_count": 20,
   "metadata": {},
   "outputs": [
    {
     "name": "stdout",
     "output_type": "stream",
     "text": [
      "Best R^2 : 0.03278328662804486\n",
      "R^2: 0.03571406581393555\n"
     ]
    }
   ],
   "source": [
    "from sklearn.linear_model import LinearRegression\n",
    "from sklearn import metrics\n",
    "slr = LinearRegression()\n",
    "accuracies = cross_val_score(estimator = slr, X = X_train, y = y_train, cv = 10)\n",
    "print('Best R^2 :',accuracies.mean())\n",
    "slr.fit(X_train, y_train)\n",
    "y_train_pred = slr.predict(X_train)\n",
    "print('R^2:',metrics.r2_score(y_train, y_train_pred))"
   ]
  },
  {
   "cell_type": "markdown",
   "metadata": {},
   "source": [
    "### Polynomial Regression"
   ]
  },
  {
   "cell_type": "code",
   "execution_count": 21,
   "metadata": {},
   "outputs": [
    {
     "name": "stdout",
     "output_type": "stream",
     "text": [
      "Best R^2: 0.6427760390487627\n",
      "R^2: 0.7066195546363409\n",
      "R^2: 0.4925823848906953\n"
     ]
    }
   ],
   "source": [
    "from sklearn.preprocessing import PolynomialFeatures\n",
    "poly_features = PolynomialFeatures(degree=10)\n",
    "   \n",
    "\n",
    "X_train_quadratic = poly_features.fit_transform(X_train)\n",
    "   \n",
    "\n",
    "quadratic = LinearRegression()\n",
    "\n",
    "quadratic.fit(X_train_quadratic, y_train)\n",
    "accuracies = cross_val_score(estimator = quadratic, X = X_train_quadratic, y = y_train, cv = 10)\n",
    "print('Best R^2:',accuracies.mean())\n",
    "y_train_predicted_quad = quadratic.predict(X_train_quadratic)\n",
    "y_test_predicted = quadratic.predict(poly_features.fit_transform(X_test))\n",
    "print('R^2:',metrics.r2_score(y_train, y_train_predicted_quad))\n",
    "print('R^2:',metrics.r2_score(y_test, y_test_predicted))"
   ]
  },
  {
   "cell_type": "markdown",
   "metadata": {},
   "source": [
    "### SVR"
   ]
  },
  {
   "cell_type": "code",
   "execution_count": 22,
   "metadata": {},
   "outputs": [],
   "source": [
    "from sklearn.model_selection import GridSearchCV\n",
    "from sklearn.svm import SVR"
   ]
  },
  {
   "cell_type": "code",
   "execution_count": 23,
   "metadata": {},
   "outputs": [],
   "source": [
    "parameters = [{'C': [0.25, 0.5, 0.75, 1], 'kernel': ['linear']},\n",
    "              {'C': [0.25, 0.5, 0.75, 1], 'kernel': ['rbf'], 'gamma': [0.1, 0.2, 0.3, 0.4, 0.5, 0.6, 0.7, 0.8, 0.9]}]\n",
    "classifier=SVR()"
   ]
  },
  {
   "cell_type": "code",
   "execution_count": 24,
   "metadata": {},
   "outputs": [],
   "source": [
    "grid_search = GridSearchCV(estimator = classifier,\n",
    "                           param_grid = parameters,\n",
    "                           scoring = 'r2',\n",
    "                           cv = 10,\n",
    "                           n_jobs = -1)"
   ]
  },
  {
   "cell_type": "code",
   "execution_count": 25,
   "metadata": {
    "scrolled": true
   },
   "outputs": [
    {
     "name": "stdout",
     "output_type": "stream",
     "text": [
      "R^2: -0.015495113147644624\n"
     ]
    }
   ],
   "source": [
    "grid_search.fit(X_train, y_train)\n",
    "y_rbf = grid_search.predict(X_train)\n",
    "print('R^2:',metrics.r2_score(y_train, y_rbf))"
   ]
  },
  {
   "cell_type": "markdown",
   "metadata": {},
   "source": [
    "### Decision Tree"
   ]
  },
  {
   "cell_type": "code",
   "execution_count": 26,
   "metadata": {},
   "outputs": [],
   "source": [
    "from sklearn.tree import DecisionTreeRegressor\n",
    "regressor = DecisionTreeRegressor(random_state = 0)\n",
    "regressor.fit(X_train, y_train)\n",
    "y_train_predd = regressor.predict(X_train)\n",
    "accuracies = cross_val_score(estimator = regressor, X = X_train, y = y_train, cv = 10)"
   ]
  },
  {
   "cell_type": "code",
   "execution_count": 27,
   "metadata": {},
   "outputs": [
    {
     "name": "stdout",
     "output_type": "stream",
     "text": [
      "R^2: 0.9967790351999979\n",
      "R^2: 1.0\n"
     ]
    }
   ],
   "source": [
    "print('R^2:',accuracies.mean())\n",
    "print('R^2:',metrics.r2_score(y_train, y_train_predd))"
   ]
  },
  {
   "cell_type": "code",
   "execution_count": 28,
   "metadata": {},
   "outputs": [],
   "source": [
    "y_test_predd = regressor.predict(X_test)"
   ]
  },
  {
   "cell_type": "code",
   "execution_count": 29,
   "metadata": {},
   "outputs": [
    {
     "name": "stdout",
     "output_type": "stream",
     "text": [
      "R^2: 0.9964719613386264\n"
     ]
    }
   ],
   "source": [
    "print('R^2:',metrics.r2_score(y_test, y_test_predd))"
   ]
  },
  {
   "cell_type": "markdown",
   "metadata": {},
   "source": [
    "### Random Forest"
   ]
  },
  {
   "cell_type": "code",
   "execution_count": 30,
   "metadata": {},
   "outputs": [
    {
     "name": "stdout",
     "output_type": "stream",
     "text": [
      "R^2: 0.9998040430023047\n",
      "Best R^2: 0.9980018135986397\n"
     ]
    }
   ],
   "source": [
    "from sklearn.ensemble import RandomForestRegressor\n",
    "regressor = RandomForestRegressor(n_estimators = 400, random_state = 0)\n",
    "regressor.fit(X_train,y_train)\n",
    "y_train_forest = regressor.predict(X_train)\n",
    "print('R^2:',metrics.r2_score(y_train, y_train_forest))\n",
    "accuracies = cross_val_score(estimator = regressor, X = X_train, y = y_train, cv = 10)\n",
    "print('Best R^2:',accuracies.mean())"
   ]
  },
  {
   "cell_type": "code",
   "execution_count": 31,
   "metadata": {},
   "outputs": [
    {
     "name": "stdout",
     "output_type": "stream",
     "text": [
      "R^2: 0.9972449925225393\n"
     ]
    }
   ],
   "source": [
    "y_test_forest = regressor.predict(X_test)\n",
    "print('R^2:',metrics.r2_score(y_test, y_test_forest))"
   ]
  },
  {
   "cell_type": "markdown",
   "metadata": {},
   "source": [
    "### XGBoost"
   ]
  },
  {
   "cell_type": "code",
   "execution_count": 32,
   "metadata": {},
   "outputs": [
    {
     "name": "stdout",
     "output_type": "stream",
     "text": [
      "Best R^2: 0.9980439957223322\n",
      "R^2: 0.999999999932608\n"
     ]
    }
   ],
   "source": [
    "reg_mod = xgb.XGBRegressor(\n",
    "    n_estimators=5000,\n",
    "    booster='dart',\n",
    "    learning_rate=0.1,\n",
    "    subsample=0.75,\n",
    "    colsample_bytree=1, \n",
    "    max_depth=10,\n",
    "    gamma=0.4,\n",
    ")\n",
    "reg_mod.fit(X_train, y_train)\n",
    "y_train_xgb = reg_mod.predict(X_train)\n",
    "accuracies = cross_val_score(estimator = reg_mod, X = X_train, y = y_train, cv = 10)\n",
    "print('Best R^2:',accuracies.mean())\n",
    "print('R^2:',metrics.r2_score(y_train, y_train_xgb))"
   ]
  },
  {
   "cell_type": "code",
   "execution_count": 33,
   "metadata": {},
   "outputs": [
    {
     "name": "stdout",
     "output_type": "stream",
     "text": [
      "R^2: 0.9978307510661076\n"
     ]
    }
   ],
   "source": [
    "y_test_xgb = reg_mod.predict(X_test)\n",
    "print('R^2:',metrics.r2_score(y_test, y_test_xgb))"
   ]
  }
 ],
 "metadata": {
  "kernelspec": {
   "display_name": "Python 3 (ipykernel)",
   "language": "python",
   "name": "python3"
  },
  "language_info": {
   "codemirror_mode": {
    "name": "ipython",
    "version": 3
   },
   "file_extension": ".py",
   "mimetype": "text/x-python",
   "name": "python",
   "nbconvert_exporter": "python",
   "pygments_lexer": "ipython3",
   "version": "3.10.9"
  }
 },
 "nbformat": 4,
 "nbformat_minor": 2
}
